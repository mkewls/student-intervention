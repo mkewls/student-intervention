{
 "cells": [
  {
   "cell_type": "markdown",
   "metadata": {},
   "source": [
    "# Machine Learning Engineer Nanodegree\n",
    "## Supervised Learning\n",
    "## Project: Building a Student Intervention System"
   ]
  },
  {
   "cell_type": "markdown",
   "metadata": {},
   "source": [
    "Welcome to the second project of the Machine Learning Engineer Nanodegree! In this notebook, some template code has already been provided for you, and it will be your job to implement the additional functionality necessary to successfully complete this project. Sections that begin with **'Implementation'** in the header indicate that the following block of code will require additional functionality which you must provide. Instructions will be provided for each section and the specifics of the implementation are marked in the code block with a `'TODO'` statement. Please be sure to read the instructions carefully!\n",
    "\n",
    "In addition to implementing code, there will be questions that you must answer which relate to the project and your implementation. Each section where you will answer a question is preceded by a **'Question X'** header. Carefully read each question and provide thorough answers in the following text boxes that begin with **'Answer:'**. Your project submission will be evaluated based on your answers to each of the questions and the implementation you provide.  \n",
    "\n",
    ">**Note:** Code and Markdown cells can be executed using the **Shift + Enter** keyboard shortcut. In addition, Markdown cells can be edited by typically double-clicking the cell to enter edit mode."
   ]
  },
  {
   "cell_type": "markdown",
   "metadata": {},
   "source": [
    "### Question 1 - Classification vs. Regression\n",
    "*Your goal for this project is to identify students who might need early intervention before they fail to graduate. Which type of supervised learning problem is this, classification or regression? Why?*"
   ]
  },
  {
   "cell_type": "markdown",
   "metadata": {},
   "source": [
    "**Answer: **  This is a classification problem, as by definition we are seeking to classify a subset of students with a specific label from a set of students who would not be given that label."
   ]
  },
  {
   "cell_type": "markdown",
   "metadata": {},
   "source": [
    "## Exploring the Data\n",
    "Run the code cell below to load necessary Python libraries and load the student data. Note that the last column from this dataset, `'passed'`, will be our target label (whether the student graduated or didn't graduate). All other columns are features about each student."
   ]
  },
  {
   "cell_type": "code",
   "execution_count": 2,
   "metadata": {
    "collapsed": false
   },
   "outputs": [
    {
     "name": "stdout",
     "output_type": "stream",
     "text": [
      "Student data read successfully!\n"
     ]
    }
   ],
   "source": [
    "# Import libraries\n",
    "import numpy as np\n",
    "import pandas as pd\n",
    "from time import time\n",
    "from sklearn.metrics import f1_score\n",
    "\n",
    "# Read student data\n",
    "student_data = pd.read_csv(\"student-data.csv\")\n",
    "print(\"Student data read successfully!\")"
   ]
  },
  {
   "cell_type": "markdown",
   "metadata": {},
   "source": [
    "### Implementation: Data Exploration\n",
    "Let's begin by investigating the dataset to determine how many students we have information on, and learn about the graduation rate among these students. In the code cell below, you will need to compute the following:\n",
    "- The total number of students, `n_students`.\n",
    "- The total number of features for each student, `n_features`.\n",
    "- The number of those students who passed, `n_passed`.\n",
    "- The number of those students who failed, `n_failed`.\n",
    "- The graduation rate of the class, `grad_rate`, in percent (%).\n"
   ]
  },
  {
   "cell_type": "code",
   "execution_count": 29,
   "metadata": {
    "collapsed": false
   },
   "outputs": [
    {
     "name": "stdout",
     "output_type": "stream",
     "text": [
      "Total number of students: 395\n",
      "Number of features: 31\n",
      "Number of students who passed: 265.0\n",
      "Number of students who failed: 130.0\n",
      "Graduation rate of the class: 67.09%\n"
     ]
    }
   ],
   "source": [
    "# TODO: Calculate number of students\n",
    "n_students = len(student_data)\n",
    "\n",
    "# TODO: Calculate number of features\n",
    "n_features = len(student_data.columns)\n",
    "\n",
    "pass_count = student_data['passed'].apply(pd.value_counts)\n",
    "# TODO: Calculate passing students\n",
    "n_passed = pass_count['yes'].sum()\n",
    "\n",
    "# TODO: Calculate failing students\n",
    "n_failed = pass_count['no'].sum()\n",
    "\n",
    "# TODO: Calculate graduation rate\n",
    "grad_rate = 100 * (n_passed / n_students)\n",
    "\n",
    "# Print the results\n",
    "print (\"Total number of students: {}\".format(n_students))\n",
    "print (\"Number of features: {}\".format(n_features))\n",
    "print (\"Number of students who passed: {}\".format(n_passed))\n",
    "print (\"Number of students who failed: {}\".format(n_failed))\n",
    "print (\"Graduation rate of the class: {:.2f}%\".format(grad_rate))"
   ]
  },
  {
   "cell_type": "markdown",
   "metadata": {},
   "source": [
    "## Preparing the Data\n",
    "In this section, we will prepare the data for modeling, training and testing.\n",
    "\n",
    "### Identify feature and target columns\n",
    "It is often the case that the data you obtain contains non-numeric features. This can be a problem, as most machine learning algorithms expect numeric data to perform computations with.\n",
    "\n",
    "Run the code cell below to separate the student data into feature and target columns to see if any features are non-numeric."
   ]
  },
  {
   "cell_type": "code",
   "execution_count": 32,
   "metadata": {
    "collapsed": false
   },
   "outputs": [
    {
     "name": "stdout",
     "output_type": "stream",
     "text": [
      "Feature columns:\n",
      "['school', 'sex', 'age', 'address', 'famsize', 'Pstatus', 'Medu', 'Fedu', 'Mjob', 'Fjob', 'reason', 'guardian', 'traveltime', 'studytime', 'failures', 'schoolsup', 'famsup', 'paid', 'activities', 'nursery', 'higher', 'internet', 'romantic', 'famrel', 'freetime', 'goout', 'Dalc', 'Walc', 'health', 'absences']\n",
      "\n",
      "Target column: passed\n",
      "\n",
      "Feature values:\n",
      "  school sex  age address famsize Pstatus  Medu  Fedu     Mjob      Fjob  \\\n",
      "0     GP   F   18       U     GT3       A     4     4  at_home   teacher   \n",
      "1     GP   F   17       U     GT3       T     1     1  at_home     other   \n",
      "2     GP   F   15       U     LE3       T     1     1  at_home     other   \n",
      "3     GP   F   15       U     GT3       T     4     2   health  services   \n",
      "4     GP   F   16       U     GT3       T     3     3    other     other   \n",
      "\n",
      "    ...    higher internet  romantic  famrel  freetime goout Dalc Walc health  \\\n",
      "0   ...       yes       no        no       4         3     4    1    1      3   \n",
      "1   ...       yes      yes        no       5         3     3    1    1      3   \n",
      "2   ...       yes      yes        no       4         3     2    2    3      3   \n",
      "3   ...       yes      yes       yes       3         2     2    1    1      5   \n",
      "4   ...       yes       no        no       4         3     2    1    2      5   \n",
      "\n",
      "  absences  \n",
      "0        6  \n",
      "1        4  \n",
      "2       10  \n",
      "3        2  \n",
      "4        4  \n",
      "\n",
      "[5 rows x 30 columns]\n"
     ]
    }
   ],
   "source": [
    "# Extract feature columns\n",
    "feature_cols = list(student_data.columns[:-1])\n",
    "\n",
    "# Extract target column 'passed'\n",
    "target_col = student_data.columns[-1] \n",
    "\n",
    "# Show the list of columns\n",
    "print (\"Feature columns:\\n{}\".format(feature_cols))\n",
    "print (\"\\nTarget column: {}\".format(target_col))\n",
    "\n",
    "# Separate the data into feature data and target data (X_all and y_all, respectively)\n",
    "X_all = student_data[feature_cols]\n",
    "y_all = student_data[target_col]\n",
    "\n",
    "# Show the feature information by printing the first five rows\n",
    "print (\"\\nFeature values:\")\n",
    "print (X_all.head())"
   ]
  },
  {
   "cell_type": "markdown",
   "metadata": {},
   "source": [
    "### Preprocess Feature Columns\n",
    "\n",
    "As you can see, there are several non-numeric columns that need to be converted! Many of them are simply `yes`/`no`, e.g. `internet`. These can be reasonably converted into `1`/`0` (binary) values.\n",
    "\n",
    "Other columns, like `Mjob` and `Fjob`, have more than two values, and are known as _categorical variables_. The recommended way to handle such a column is to create as many columns as possible values (e.g. `Fjob_teacher`, `Fjob_other`, `Fjob_services`, etc.), and assign a `1` to one of them and `0` to all others.\n",
    "\n",
    "These generated columns are sometimes called _dummy variables_, and we will use the [`pandas.get_dummies()`](http://pandas.pydata.org/pandas-docs/stable/generated/pandas.get_dummies.html?highlight=get_dummies#pandas.get_dummies) function to perform this transformation. Run the code cell below to perform the preprocessing routine discussed in this section."
   ]
  },
  {
   "cell_type": "code",
   "execution_count": 34,
   "metadata": {
    "collapsed": false
   },
   "outputs": [
    {
     "name": "stdout",
     "output_type": "stream",
     "text": [
      "Processed feature columns (48 total features):\n",
      "['school_GP', 'school_MS', 'sex_F', 'sex_M', 'age', 'address_R', 'address_U', 'famsize_GT3', 'famsize_LE3', 'Pstatus_A', 'Pstatus_T', 'Medu', 'Fedu', 'Mjob_at_home', 'Mjob_health', 'Mjob_other', 'Mjob_services', 'Mjob_teacher', 'Fjob_at_home', 'Fjob_health', 'Fjob_other', 'Fjob_services', 'Fjob_teacher', 'reason_course', 'reason_home', 'reason_other', 'reason_reputation', 'guardian_father', 'guardian_mother', 'guardian_other', 'traveltime', 'studytime', 'failures', 'schoolsup', 'famsup', 'paid', 'activities', 'nursery', 'higher', 'internet', 'romantic', 'famrel', 'freetime', 'goout', 'Dalc', 'Walc', 'health', 'absences']\n"
     ]
    }
   ],
   "source": [
    "def preprocess_features(X):\n",
    "    ''' Preprocesses the student data and converts non-numeric binary variables into\n",
    "        binary (0/1) variables. Converts categorical variables into dummy variables. '''\n",
    "    \n",
    "    # Initialize new output DataFrame\n",
    "    output = pd.DataFrame(index = X.index)\n",
    "\n",
    "    # Investigate each feature column for the data\n",
    "    for col, col_data in X.iteritems():\n",
    "        \n",
    "        # If data type is non-numeric, replace all yes/no values with 1/0\n",
    "        if col_data.dtype == object:\n",
    "            col_data = col_data.replace(['yes', 'no'], [1, 0])\n",
    "\n",
    "        # If data type is categorical, convert to dummy variables\n",
    "        if col_data.dtype == object:\n",
    "            # Example: 'school' => 'school_GP' and 'school_MS'\n",
    "            col_data = pd.get_dummies(col_data, prefix = col)  \n",
    "        \n",
    "        # Collect the revised columns\n",
    "        output = output.join(col_data)\n",
    "    \n",
    "    return output\n",
    "\n",
    "X_all = preprocess_features(X_all)\n",
    "print (\"Processed feature columns ({} total features):\\n{}\".format(len(X_all.columns), list(X_all.columns)))"
   ]
  },
  {
   "cell_type": "markdown",
   "metadata": {},
   "source": [
    "### Implementation: Training and Testing Data Split\n",
    "So far, we have converted all _categorical_ features into numeric values. For the next step, we split the data (both features and corresponding labels) into training and test sets. In the following code cell below, you will need to implement the following:\n",
    "- Randomly shuffle and split the data (`X_all`, `y_all`) into training and testing subsets.\n",
    "  - Use 300 training points (approximately 75%) and 95 testing points (approximately 25%).\n",
    "  - Set a `random_state` for the function(s) you use, if provided.\n",
    "  - Store the results in `X_train`, `X_test`, `y_train`, and `y_test`."
   ]
  },
  {
   "cell_type": "code",
   "execution_count": 38,
   "metadata": {
    "collapsed": false
   },
   "outputs": [
    {
     "name": "stdout",
     "output_type": "stream",
     "text": [
      "Training set has 300 samples.\n",
      "Testing set has 95 samples.\n"
     ]
    }
   ],
   "source": [
    "# TODO: Import any additional functionality you may need here\n",
    "from sklearn.cross_validation import train_test_split\n",
    "\n",
    "# TODO: Set the number of training points\n",
    "num_train = 300\n",
    "\n",
    "# Set the number of testing points\n",
    "num_test = X_all.shape[0] - num_train\n",
    "\n",
    "# TODO: Shuffle and split the dataset into the number of training and testing points above\n",
    "X_train, X_test, y_train, y_test = train_test_split(X_all, y_all, test_size=num_test, train_size=num_train, random_state=14)\n",
    "\n",
    "# Show the results of the split\n",
    "print (\"Training set has {} samples.\".format(X_train.shape[0]))\n",
    "print (\"Testing set has {} samples.\".format(X_test.shape[0]))"
   ]
  },
  {
   "cell_type": "markdown",
   "metadata": {},
   "source": [
    "## Training and Evaluating Models\n",
    "In this section, you will choose 3 supervised learning models that are appropriate for this problem and available in `scikit-learn`. You will first discuss the reasoning behind choosing these three models by considering what you know about the data and each model's strengths and weaknesses. You will then fit the model to varying sizes of training data (100 data points, 200 data points, and 300 data points) and measure the F<sub>1</sub> score. You will need to produce three tables (one for each model) that shows the training set size, training time, prediction time, F<sub>1</sub> score on the training set, and F<sub>1</sub> score on the testing set.\n",
    "\n",
    "**The following supervised learning models are currently available in** [`scikit-learn`](http://scikit-learn.org/stable/supervised_learning.html) **that you may choose from:**\n",
    "- Gaussian Naive Bayes (GaussianNB)\n",
    "- Decision Trees\n",
    "- Ensemble Methods (Bagging, AdaBoost, Random Forest, Gradient Boosting)\n",
    "- K-Nearest Neighbors (KNeighbors)\n",
    "- Stochastic Gradient Descent (SGDC)\n",
    "- Support Vector Machines (SVM)\n",
    "- Logistic Regression"
   ]
  },
  {
   "cell_type": "markdown",
   "metadata": {},
   "source": [
    "### Question 2 - Model Application\n",
    "*List three supervised learning models that are appropriate for this problem. For each model chosen*\n",
    "- Describe one real-world application in industry where the model can be applied. *(You may need to do a small bit of research for this — give references!)* \n",
    "- What are the strengths of the model; when does it perform well? \n",
    "- What are the weaknesses of the model; when does it perform poorly?\n",
    "- What makes this model a good candidate for the problem, given what you know about the data?"
   ]
  },
  {
   "cell_type": "markdown",
   "metadata": {},
   "source": [
    "**Answer: **  \n",
    "(1) Decision Trees: A novel, but useful application for decision trees is its use in sleep analytic software, specifically mobile apps that use phone sensors to track a range of variables about a person's sleep -- features -- and apply labels to train and predict sleep quality. Decision trees are strong for a variety of reasons, but especially when data preparation costs must remain low, visual interpretation is at a premium, and observation of the learning logic is desired. It likewise performs well with mixed data (categorical & numerical), so long as basic steps are taken to normalize or dummify the data, and in situations where multiple outputs are expected. As for weaknesses, it is prone to overfitting if the tree logic goes to deep and can be highly sensitive to small variations in the data or unbalanced data in terms of bias. Consequently, it performs poorly when there are many branches to discern in building the model and in cases where developing thresholds for a decision branch is difficult or too uncertain to reliably establish the branching in the model. I decided to choose this model because our data types play to the strength of the model, because we can statistically test the model results based on the data, and because we can easily observe how the model is learning (which I think is a big advantage!).\n",
    "\n",
    "(2) SVM: There is a wide breadth of application for SVM's in the real-world, but a major one is risk prediction, e.g., credit risk, given the common business case of using SVM's for inductive inference (i.e., inferring from features of a group of known low credit risk borrowers whether an unknown group of borrowers are low risk as well based on their features). SVM's are good at high dimensionality data, given the ability to find hyperplanes in a many dimensional space using the kernel trick, but accordingly, it rarely works well with a low quantity of data (we're likely safe here given that there are 8x as many samples to work with than features). Another disadvantage related to the data is that the large size needed may require longer computational times, although subset calculations (choice of kernel function) are potential speed-ups and memory savers. As mentioned, the samples outnumbering features is a good thing for the data we have here, but more importantly, I think inductive inference is going to work well in making predictions about \"high risk\" students based on learning features from known failing students.\n",
    "\n",
    "(3) Ensemble Methods: The same real-world applications for SVM's and Decision Trees (hello, Random Forests) can apply to those of ensemble methods. Simplisticly, ensemble methods can improve the bias or variance problems of \"regular\" learners by introducing randomness, sampling, averaging, and other techniques. Netflix's recommendation system, at least at one point, was a good real-world example of using ensemble methods. An advantage, as mentioned, is that they average out bias, reduce noise and thus variance, and given this, are unlikely to overfit. A disadvantage is the relative inability to use these methods in producing probabilities (as opposed to classification). Additionally, if a particular ensemble method is applied to the wrong data model, e.g., bagging a high-bias model, the results will not be good. I'd like to try to Random Forests for this data set, both because I believe it will produce a good classification as a tree-based learning model, but also as a comparison to a \"pure\" decision tree model (my first model)."
   ]
  },
  {
   "cell_type": "markdown",
   "metadata": {},
   "source": [
    "### Setup\n",
    "Run the code cell below to initialize three helper functions which you can use for training and testing the three supervised learning models you've chosen above. The functions are as follows:\n",
    "- `train_classifier` - takes as input a classifier and training data and fits the classifier to the data.\n",
    "- `predict_labels` - takes as input a fit classifier, features, and a target labeling and makes predictions using the F<sub>1</sub> score.\n",
    "- `train_predict` - takes as input a classifier, and the training and testing data, and performs `train_clasifier` and `predict_labels`.\n",
    " - This function will report the F<sub>1</sub> score for both the training and testing data separately."
   ]
  },
  {
   "cell_type": "code",
   "execution_count": 45,
   "metadata": {
    "collapsed": false
   },
   "outputs": [],
   "source": [
    "def train_classifier(clf, X_train, y_train):\n",
    "    ''' Fits a classifier to the training data. '''\n",
    "    \n",
    "    # Start the clock, train the classifier, then stop the clock\n",
    "    start = time()\n",
    "    clf.fit(X_train, y_train)\n",
    "    end = time()\n",
    "    \n",
    "    # Print the results\n",
    "    print (\"Trained model in {:.4f} seconds\".format(end - start))\n",
    "\n",
    "    \n",
    "def predict_labels(clf, features, target):\n",
    "    ''' Makes predictions using a fit classifier based on F1 score. '''\n",
    "    \n",
    "    # Start the clock, make predictions, then stop the clock\n",
    "    start = time()\n",
    "    y_pred = clf.predict(features)\n",
    "    end = time()\n",
    "    \n",
    "    # Print and return results\n",
    "    print (\"Made predictions in {:.4f} seconds.\".format(end - start))\n",
    "    return f1_score(target.values, y_pred, pos_label='yes')\n",
    "\n",
    "\n",
    "def train_predict(clf, X_train, y_train, X_test, y_test):\n",
    "    ''' Train and predict using a classifer based on F1 score. '''\n",
    "    \n",
    "    # Indicate the classifier and the training set size\n",
    "    print (\"Training a {} using a training set size of {}. . .\".format(clf.__class__.__name__, len(X_train)))\n",
    "    \n",
    "    # Train the classifier\n",
    "    train_classifier(clf, X_train, y_train)\n",
    "    \n",
    "    # Print the results of prediction for both training and testing\n",
    "    print (\"F1 score for training set: {:.4f}.\".format(predict_labels(clf, X_train, y_train)))\n",
    "    print (\"F1 score for test set: {:.4f}.\".format(predict_labels(clf, X_test, y_test)))"
   ]
  },
  {
   "cell_type": "markdown",
   "metadata": {},
   "source": [
    "### Implementation: Model Performance Metrics\n",
    "With the predefined functions above, you will now import the three supervised learning models of your choice and run the `train_predict` function for each one. Remember that you will need to train and predict on each classifier for three different training set sizes: 100, 200, and 300. Hence, you should expect to have 9 different outputs below — 3 for each model using the varying training set sizes. In the following code cell, you will need to implement the following:\n",
    "- Import the three supervised learning models you've discussed in the previous section.\n",
    "- Initialize the three models and store them in `clf_A`, `clf_B`, and `clf_C`.\n",
    " - Use a `random_state` for each model you use, if provided.\n",
    " - **Note:** Use the default settings for each model — you will tune one specific model in a later section.\n",
    "- Create the different training set sizes to be used to train each model.\n",
    " - *Do not reshuffle and resplit the data! The new training points should be drawn from `X_train` and `y_train`.*\n",
    "- Fit each model with each training set size and make predictions on the test set (9 in total).  \n",
    "**Note:** Three tables are provided after the following code cell which can be used to store your results."
   ]
  },
  {
   "cell_type": "code",
   "execution_count": 46,
   "metadata": {
    "collapsed": false
   },
   "outputs": [
    {
     "name": "stdout",
     "output_type": "stream",
     "text": [
      "Training a DecisionTreeClassifier using a training set size of 100. . .\n",
      "Trained model in 0.0011 seconds\n",
      "Made predictions in 0.0001 seconds.\n",
      "F1 score for training set: 1.0000.\n",
      "Made predictions in 0.0001 seconds.\n",
      "F1 score for test set: 0.7143.\n",
      "Training a DecisionTreeClassifier using a training set size of 200. . .\n",
      "Trained model in 0.0011 seconds\n",
      "Made predictions in 0.0002 seconds.\n",
      "F1 score for training set: 1.0000.\n",
      "Made predictions in 0.0001 seconds.\n",
      "F1 score for test set: 0.6825.\n",
      "Training a DecisionTreeClassifier using a training set size of 300. . .\n",
      "Trained model in 0.0015 seconds\n",
      "Made predictions in 0.0002 seconds.\n",
      "F1 score for training set: 1.0000.\n",
      "Made predictions in 0.0001 seconds.\n",
      "F1 score for test set: 0.6562.\n",
      "Training a SVC using a training set size of 100. . .\n",
      "Trained model in 0.0010 seconds\n",
      "Made predictions in 0.0006 seconds.\n",
      "F1 score for training set: 0.8684.\n",
      "Made predictions in 0.0006 seconds.\n",
      "F1 score for test set: 0.8481.\n",
      "Training a SVC using a training set size of 200. . .\n",
      "Trained model in 0.0039 seconds\n",
      "Made predictions in 0.0023 seconds.\n",
      "F1 score for training set: 0.8805.\n",
      "Made predictions in 0.0009 seconds.\n",
      "F1 score for test set: 0.8280.\n",
      "Training a SVC using a training set size of 300. . .\n",
      "Trained model in 0.0055 seconds\n",
      "Made predictions in 0.0040 seconds.\n",
      "F1 score for training set: 0.8770.\n",
      "Made predictions in 0.0013 seconds.\n",
      "F1 score for test set: 0.8052.\n",
      "Training a RandomForestClassifier using a training set size of 100. . .\n",
      "Trained model in 0.0081 seconds\n",
      "Made predictions in 0.0008 seconds.\n",
      "F1 score for training set: 0.9924.\n",
      "Made predictions in 0.0007 seconds.\n",
      "F1 score for test set: 0.6912.\n",
      "Training a RandomForestClassifier using a training set size of 200. . .\n",
      "Trained model in 0.0090 seconds\n",
      "Made predictions in 0.0009 seconds.\n",
      "F1 score for training set: 1.0000.\n",
      "Made predictions in 0.0007 seconds.\n",
      "F1 score for test set: 0.7286.\n",
      "Training a RandomForestClassifier using a training set size of 300. . .\n",
      "Trained model in 0.0090 seconds\n",
      "Made predictions in 0.0010 seconds.\n",
      "F1 score for training set: 0.9975.\n",
      "Made predictions in 0.0007 seconds.\n",
      "F1 score for test set: 0.7164.\n"
     ]
    }
   ],
   "source": [
    "# TODO: Import the three supervised learning models from sklearn\n",
    "# from sklearn import model_A\n",
    "from sklearn.tree import DecisionTreeClassifier\n",
    "# from sklearn import model_B\n",
    "from sklearn.svm import SVC\n",
    "# from sklearn import model_C\n",
    "from sklearn.ensemble import RandomForestClassifier\n",
    "\n",
    "# TODO: Initialize the three models\n",
    "clf_A = DecisionTreeClassifier(random_state=12)\n",
    "clf_B = SVC(random_state=13)\n",
    "clf_C = RandomForestClassifier(random_state=14)\n",
    "\n",
    "# TODO: Set up the training set sizes\n",
    "X_train_100 = X_train[:100]\n",
    "y_train_100 = y_train[:100]\n",
    "\n",
    "X_train_200 = X_train[:200]\n",
    "y_train_200 = y_train[:200]\n",
    "\n",
    "X_train_300 = X_train\n",
    "y_train_300 = y_train\n",
    "\n",
    "# TODO: Execute the 'train_predict' function for each classifier and each training set size\n",
    "# train_predict(clf, X_train, y_train, X_test, y_test)\n",
    "#DecisionTreeClassifier\n",
    "train_predict(clf_A, X_train_100, y_train_100, X_test, y_test)\n",
    "train_predict(clf_A, X_train_200, y_train_200, X_test, y_test)\n",
    "train_predict(clf_A, X_train_300, y_train_300, X_test, y_test)\n",
    "#SVC\n",
    "train_predict(clf_B, X_train_100, y_train_100, X_test, y_test)\n",
    "train_predict(clf_B, X_train_200, y_train_200, X_test, y_test)\n",
    "train_predict(clf_B, X_train_300, y_train_300, X_test, y_test)\n",
    "#RandomForestClassifier\n",
    "train_predict(clf_C, X_train_100, y_train_100, X_test, y_test)\n",
    "train_predict(clf_C, X_train_200, y_train_200, X_test, y_test)\n",
    "train_predict(clf_C, X_train_300, y_train_300, X_test, y_test)"
   ]
  },
  {
   "cell_type": "markdown",
   "metadata": {},
   "source": [
    "### Tabular Results\n",
    "Edit the cell below to see how a table can be designed in [Markdown](https://github.com/adam-p/markdown-here/wiki/Markdown-Cheatsheet#tables). You can record your results from above in the tables provided."
   ]
  },
  {
   "cell_type": "markdown",
   "metadata": {},
   "source": [
    "** Classifer 1 - Decision Tree Classifier**  \n",
    "\n",
    "| Training Set Size | Training Time | Prediction Time (test) | F1 Score (train) | F1 Score (test) |\n",
    "| :---------------: | :---------------------: | :--------------------: | :--------------: | :-------------: |\n",
    "| 100               | 0.0011                  | 0.0001                 | 1.0              | 0.7143          |\n",
    "| 200               | 0.0011                  | 0.0002                 | 1.0              | 0.6825          |\n",
    "| 300               | 0.0015                  | 0.0002                 | 1.0              | 0.6562          |\n",
    "\n",
    "** Classifer 2 - Support Vector Classifier**  \n",
    "\n",
    "| Training Set Size | Training Time | Prediction Time (test) | F1 Score (train) | F1 Score (test) |\n",
    "| :---------------: | :---------------------: | :--------------------: | :--------------: | :-------------: |\n",
    "| 100               | 0.0010                  | 0.0006                 | 0.8684           | 0.8481          |\n",
    "| 200               | 0.0039                  | 0.0023                 | 0.8805           | 0.8280          |\n",
    "| 300               | 0.0055                  | 0.004                  | 0.8770           | 0.8052          |\n",
    "\n",
    "** Classifer 3 - Random Forests**  \n",
    "\n",
    "| Training Set Size | Training Time | Prediction Time (test) | F1 Score (train) | F1 Score (test) |\n",
    "| :---------------: | :---------------------: | :--------------------: | :--------------: | :-------------: |\n",
    "| 100               | 0.0081                  | 0.0008                 | 0.9924           | 0.6912          |\n",
    "| 200               | 0.0090                  | 0.0009                 | 1.0              | 0.7286          |\n",
    "| 300               | 0.0090                  | 0.0010                 | 0.9975           | 0.7164          |"
   ]
  },
  {
   "cell_type": "markdown",
   "metadata": {},
   "source": [
    "## Choosing the Best Model\n",
    "In this final section, you will choose from the three supervised learning models the *best* model to use on the student data. You will then perform a grid search optimization for the model over the entire training set (`X_train` and `y_train`) by tuning at least one parameter to improve upon the untuned model's F<sub>1</sub> score. "
   ]
  },
  {
   "cell_type": "markdown",
   "metadata": {},
   "source": [
    "### Question 3 - Choosing the Best Model\n",
    "*Based on the experiments you performed earlier, in one to two paragraphs, explain to the board of supervisors what single model you chose as the best model. Which model is generally the most appropriate based on the available data, limited resources, cost, and performance?*"
   ]
  },
  {
   "cell_type": "markdown",
   "metadata": {},
   "source": [
    "**Answer: ** Based on the experiments we conducted, the Support Vector Classification (SVC) model clearly bested other tested models in our primary concern, that being the minimization of false positives and potentially more importantly, false negatives (derived from our F1 score). Secondarily, the SVC model was comparable to the other tested models in terms of both training and prediction time using the available data size, thereby making it resource and cost efficient when considering any of those models for use in this program.\n",
    "\n",
    "More specifically, our best performance (F1 score) was obtained using the SVC with a smaller training set size (100 vs. 200 or 300), producing a harmonic mean of precision and recall near to 0.85. That not only bested its own performance with other training set sizes, but all training set sizes of the other two models by over 0.12 (12% better). At this training set size, the SVC trains at 1.0ms and predicts at 0.6ms, which provide a speed suited for not only quick batching of results, but even real-time predictions through a developed interface for the model. Interestingly, that means that the SVC handles the high-dimensionality well, but also does best with only 2x as many samples as features. The strong advantage of inductive inference still wins the day and provides a clear use case for SVC here."
   ]
  },
  {
   "cell_type": "markdown",
   "metadata": {},
   "source": [
    "### Question 4 - Model in Layman's Terms\n",
    "*In one to two paragraphs, explain to the board of directors in layman's terms how the final model chosen is supposed to work. Be sure that you are describing the major qualities of the model, such as how the model is trained and how the model makes a prediction. Avoid using advanced mathematical or technical jargon, such as describing equations or discussing the algorithm implementation.*"
   ]
  },
  {
   "cell_type": "markdown",
   "metadata": {},
   "source": [
    "**Answer: **  When in comes to implementing student interventions, we neither wish to intervene with those students who do not need additional resources to graduate, nor miss those who do need our limited resources to ensure graduation. What we've been able to do is develop a model that minimizes these undesireable outcomes. Our combined false positives (identifying someone as not going to graduate incorrectly) and false negatives (identifying someone as going to graduate incorrectly) are reduced by using everything we know about those who do pass (including whether or not they lack something) to compare those same things in students we wish to make an intervention decision about. We thereby develop our best idea about what things predict failure and apply that idea to others to make predictions, inferring that those who have that same bundle of qualities or things will also fail. "
   ]
  },
  {
   "cell_type": "markdown",
   "metadata": {},
   "source": [
    "### Implementation: Model Tuning\n",
    "Fine tune the chosen model. Use grid search (`GridSearchCV`) with at least one important parameter tuned with at least 3 different values. You will need to use the entire training set for this. In the code cell below, you will need to implement the following:\n",
    "- Import [`sklearn.grid_search.GridSearchCV`](http://scikit-learn.org/0.17/modules/generated/sklearn.grid_search.GridSearchCV.html) and [`sklearn.metrics.make_scorer`](http://scikit-learn.org/stable/modules/generated/sklearn.metrics.make_scorer.html).\n",
    "- Create a dictionary of parameters you wish to tune for the chosen model.\n",
    " - Example: `parameters = {'parameter' : [list of values]}`.\n",
    "- Initialize the classifier you've chosen and store it in `clf`.\n",
    "- Create the F<sub>1</sub> scoring function using `make_scorer` and store it in `f1_scorer`.\n",
    " - Set the `pos_label` parameter to the correct value!\n",
    "- Perform grid search on the classifier `clf` using `f1_scorer` as the scoring method, and store it in `grid_obj`.\n",
    "- Fit the grid search object to the training data (`X_train`, `y_train`), and store it in `grid_obj`."
   ]
  },
  {
   "cell_type": "code",
   "execution_count": 135,
   "metadata": {
    "collapsed": false
   },
   "outputs": [
    {
     "name": "stdout",
     "output_type": "stream",
     "text": [
      "Made predictions in 0.0014 seconds.\n",
      "Tuned model has a training F1 score of 0.8056.\n",
      "Made predictions in 0.0007 seconds.\n",
      "Tuned model has a testing F1 score of 0.8163.\n"
     ]
    }
   ],
   "source": [
    "# TODO: Import 'GridSearchCV' and 'make_scorer'\n",
    "from sklearn.grid_search import GridSearchCV\n",
    "from sklearn.metrics import make_scorer\n",
    "\n",
    "# TODO: Create the parameters list you wish to tune\n",
    "parameters = [\n",
    "    {'kernel': ['rbf', 'sigmoid'], 'C': [0.1, 1, 10, 100, 1000], 'gamma': ['auto', 0.02, 0.002, 0.0002, 0.000002],\n",
    "'decision_function_shape': ['none', 'ovr']},\n",
    "    {'kernel': ['poly'], 'C': [0.1, 1, 10, 100, 1000], 'gamma': ['auto', 0.02, 0.002, 0.0002, 0.000002],\n",
    "'degree': [1e-09, 0.00001, 0.0001, 0.001, 0.1], 'decision_function_shape': ['none', 'ovr']},\n",
    "    {'kernel': ['linear'], 'C': [0.1, 1, 10, 100, 1000], 'decision_function_shape': ['none', 'ovr']}\n",
    "]\n",
    "\n",
    "\n",
    "# TODO: Initialize the classifier\n",
    "clf = SVC(random_state=13)\n",
    "\n",
    "# TODO: Make an f1 scoring function using 'make_scorer' \n",
    "f1_scorer = make_scorer(f1_score, pos_label='yes')\n",
    "\n",
    "# TODO: Perform grid search on the classifier using the f1_scorer as the scoring method\n",
    "grid_obj = GridSearchCV(clf, parameters, scoring=f1_scorer, cv=5)\n",
    "\n",
    "# TODO: Fit the grid search object to the training data and find the optimal parameters\n",
    "grid_obj = grid_obj.fit(X_train_100, y_train_100)\n",
    "\n",
    "# Get the estimator\n",
    "clf = grid_obj.best_estimator_\n",
    "\n",
    "# Report the final F1 score for training and testing after parameter tuning\n",
    "print (\"Tuned model has a training F1 score of {:.4f}.\".format(predict_labels(clf, X_train, y_train)))\n",
    "print (\"Tuned model has a testing F1 score of {:.4f}.\".format(predict_labels(clf, X_test, y_test)))"
   ]
  },
  {
   "cell_type": "markdown",
   "metadata": {},
   "source": [
    "### Question 5 - Final F<sub>1</sub> Score\n",
    "*What is the final model's F<sub>1</sub> score for training and testing? How does that score compare to the untuned model?*"
   ]
  },
  {
   "cell_type": "markdown",
   "metadata": {},
   "source": [
    "**Answer: **  The tuned model's F1 score for training and testing are 0.8056 and 0.8163, respectively. This is using a fairly wide scope of hyperparameter values in an exhaustive grid search, and reflects the best tuning of parameter values over repeated experimentation (i.e., many other values were tested within those hyperparameters, but excluded in the above code, as they did not raise the score). In the end, the tuning functions did not produce close to the untuned model's F1 score (0.8481) despite including the same hyperparameter values as part of the grid search. The calculations done by grid search under the hood to improve accuracy (in addition to the provided F1 scorer) are the likely culprit for that discrepancy. In addition, in reviewing sklearn's great documentation on grid search, it seems that tuning the hyperparameters (e.g., C, kernel, gamma) does not produce improvements through an exhaustive grid search when the problem solved by the model is too easy. That may be the case in this instance given the small application of data to train the model (generalizes well to the test data using a training data of only 100 samples)."
   ]
  },
  {
   "cell_type": "markdown",
   "metadata": {},
   "source": [
    "> **Note**: Once you have completed all of the code implementations and successfully answered each question above, you may finalize your work by exporting the iPython Notebook as an HTML document. You can do this by using the menu above and navigating to  \n",
    "**File -> Download as -> HTML (.html)**. Include the finished document along with this notebook as your submission."
   ]
  }
 ],
 "metadata": {
  "anaconda-cloud": {},
  "kernelspec": {
   "display_name": "Python [conda root]",
   "language": "python",
   "name": "conda-root-py"
  },
  "language_info": {
   "codemirror_mode": {
    "name": "ipython",
    "version": 3
   },
   "file_extension": ".py",
   "mimetype": "text/x-python",
   "name": "python",
   "nbconvert_exporter": "python",
   "pygments_lexer": "ipython3",
   "version": "3.5.2"
  }
 },
 "nbformat": 4,
 "nbformat_minor": 0
}
